{
 "cells": [
  {
   "cell_type": "markdown",
   "metadata": {},
   "source": [
    "# Getting started with heating in impulsePy\n",
    "\n",
    "This document covers all the things you need to know to get started with impulsePy. To run this script, start an Impulse experiment with temperature control enabled. \n",
    "\n",
    "You can set Impulse to stub mode so that you can run your script without the need of any hardware. For instructions on how to do this, please contact me at merijn.pen@denssolutions.com.\n",
    "\n",
    "For this introduction, the following libraries are required:"
   ]
  },
  {
   "cell_type": "code",
   "execution_count": null,
   "metadata": {},
   "outputs": [],
   "source": [
    "import impulsePy as impulse # Required for the communication with Impulse\n",
    "from IPython.display import display # Used for this guide to display the dataFrames in a nice way"
   ]
  },
  {
   "cell_type": "markdown",
   "metadata": {},
   "source": [
    "## Chapter 1. Subscribing to channels & receiving data\n",
    "\n",
    "### 1.1 Subscribing to channels\n",
    "\n",
    "To receive data from impulse for a certain stimulus, we can subscribe to that stimulus using `impulse.<stimulus>.data.subscribe()`. "
   ]
  },
  {
   "cell_type": "code",
   "execution_count": null,
   "metadata": {},
   "outputs": [],
   "source": [
    "# Connect to the Impulse channels\n",
    "impulse.heat.data.subscribe()"
   ]
  },
  {
   "cell_type": "markdown",
   "metadata": {},
   "source": [
    "### 1.2 Getting a datapoint\n",
    "\n",
    "Now that we are subsribed to the data and event channel, we can read the last measurements for a stimulus by using \n",
    "`impulse.<stimulus>.data.getLastData()`.\n",
    "\n",
    "We can only receive data from Impulse when it is in \"control\" mode (when an experiment is running), so we can use `impulse.waitForControl()` to hold our script until Impulse is ready.\n",
    "\n",
    "In this example we also pause the script using `impulse.sleep(sleep time in seconds)`."
   ]
  },
  {
   "cell_type": "code",
   "execution_count": null,
   "metadata": {},
   "outputs": [],
   "source": [
    "impulse.waitForControl() #Make sure that Impulse has an active experiment running first.\n",
    "\n",
    "impulse.sleep(2) # Wait 2 seconds so that we have received data from Impulse\n",
    "\n",
    "heatDatapoint = impulse.heat.data.getLastData() # Receive the last dataset as a Dict\n",
    "display(heatDatapoint) # Print the dict to see the contents.\n",
    "\n",
    "# Get individual values from the dict this way:\n",
    "print('\\nThe current temperature is', heatDatapoint[\"temperatureMeasured\"], \"degrees Celsius\") "
   ]
  },
  {
   "cell_type": "markdown",
   "metadata": {},
   "source": [
    "The getLastData command returns the measurements from that stimulus for a single timestamp in the form of a dictionary.\n",
    "As shown in the last line of the code, values from a dictionary can be retrieved by adding the parameter name after the dict name.\n",
    "\n",
    "The getLastData command instantly returns the last measurement that was received from Impulse. \n",
    "This means that when send the request again shortly after, you will probably receive the same measurement twice.\n",
    "\n",
    "If you want to make sure that you receive a <b>new</b> measurement, you can use `impulse.<stimulus>.data.getNewData()`.\n",
    "For slow devices, this will mean that the script waits some time for the device to send a new measurement."
   ]
  },
  {
   "cell_type": "code",
   "execution_count": null,
   "metadata": {},
   "outputs": [],
   "source": [
    "print(\"Getting last data fast results in the same measurement twice:\")\n",
    "print(impulse.heat.data.getLastData()[\"sequenceNumber\"])\n",
    "print(impulse.heat.data.getLastData()[\"sequenceNumber\"])\n",
    "print(\"Using getNewData, we make sure to get a different measurement every time we ask:\")\n",
    "print(impulse.heat.data.getNewData()[\"sequenceNumber\"])\n",
    "print(impulse.heat.data.getNewData()[\"sequenceNumber\"])"
   ]
  },
  {
   "cell_type": "markdown",
   "metadata": {},
   "source": [
    "### 1.3 Getting a dataFrame\n",
    "\n",
    "You can also get a dataset with multiple measurements by using `impulse.<stimulus>.data.getDataFrame()`.\n",
    "\n",
    "The getDataFrame command can be used in a few different ways:\n",
    "- __Without any arguments__, which will return all data for that stimulus that was collected from the start of the subscription.\n",
    "- __With one number__, which will return all data from that row onward. E.g. getDataFrame(-5) will return the last 5 rows.\n",
    "- __With two numbers__, which will return all rows between the first to the second number.\n",
    "- __Using flags instead of numbers__, same as the previous two but with flag names"
   ]
  },
  {
   "cell_type": "code",
   "execution_count": null,
   "metadata": {},
   "outputs": [],
   "source": [
    "last5Meas = impulse.heat.data.getDataFrame(-5) # Gets the last 5 measurements in a dataFrame \n",
    "display(last5Meas)\n",
    "\n",
    "specificRows = impulse.heat.data.getDataFrame(3,6) # Get rows 3 to 6 as a dataFrame\n",
    "display(specificRows)"
   ]
  },
  {
   "cell_type": "markdown",
   "metadata": {},
   "source": [
    "Except for when you want to receive the last n rows of data, rownumbers are quite meaningless if you want to get data from a particular section of your experiment.\n",
    "To make that easier, you can also flag your data with a name during the experiment, and request that data using this flag later.\n",
    "\n",
    "Setting flags can be done with: `impulse.<stimulus>.data.setFlag(\"Flag string here\")`.\n",
    "Flags are stored in the last column of the dataFrame under \"flags\".\n",
    "\n",
    "You can then use the .getDataFrame command using the flags to get that data as a dataFrame."
   ]
  },
  {
   "cell_type": "code",
   "execution_count": null,
   "metadata": {},
   "outputs": [],
   "source": [
    "# Experiment with 5 cycles and flag the data in each cycle with the cycle-number.\n",
    "for i in range(5):\n",
    "    print(f\"Running cycle {i}...\")\n",
    "    impulse.heat.data.setFlag(f\"Cycle {i}\")\n",
    "    impulse.sleep(5) # Some stimulus controls here\n",
    "\n",
    "cycle3Data = impulse.heat.data.getDataFrame(\"Cycle 3\",\"Cycle 4\") # Get the data between the start of Cycle 3 and Cycle 4\n",
    "display(cycle3Data)"
   ]
  },
  {
   "cell_type": "markdown",
   "metadata": {},
   "source": [
    "## Chapter 2. Stimulus Control\n",
    "\n",
    "Each stimulus has its own set of control commands. All of these commands can be found in the \"All ImpulsePy Commands\" document.\n",
    "\n",
    "ImpulsePy offers the following controls for controlling heat:\n",
    "\n",
    "`impulse.heat.set(setpoint)`\n",
    "> This command lets you set the temperature to a setpoint as a direct step.\n",
    "> - __setpoint__: Temperature (°C)\n",
    "\n",
    "`impulse.heat.startRamp(target, rampSpeedType, rampSpeedValue)`\n",
    "> This command lets you start a temperature ramp from the current temperature to the target temperature. The second argument can either be \"rampTime\" or \"rampRate\" which determines what the value in the 3rd argument represents.\n",
    "> - __target__: Target temperature (°C)\n",
    "> - __rampSpeedType__: This argument should be \"rampTime\" or \"rampRate\", this determines what the next argument represents\n",
    "> - __rampSpeedValue__: This argument either sets the duration of the ramp (seconds), when rampTime is set in the previous argument, or the rampRate (°C/s) if rampRate is set in the previous argument.\n",
    "\n",
    "`impulse.heat.stopRamp()`\n",
    "> This command lets you stop a running temperature ramp. This command has no arguments.\n",
    "\n",
    "The use of these commands is demonstrated in the code below."
   ]
  },
  {
   "cell_type": "code",
   "execution_count": null,
   "metadata": {},
   "outputs": [],
   "source": [
    "impulse.heat.set(400) # Set the heat to 400 degrees\n",
    "impulse.sleep(3)\n",
    "impulse.heat.startRamp(500,\"rampTime\",20) # Ramp from the current temperature to 500 degrees with a ramptime of 20 seconds\n",
    "impulse.sleep(8)\n",
    "impulse.heat.stopRamp() # Stop the temperature ramp\n",
    "impulse.sleep(3)\n",
    "impulse.heat.startRamp(600,\"rampRate\",10) # Ramp from the current temperature to 600 degrees with a ramprate of 10 degrees/second"
   ]
  },
  {
   "cell_type": "markdown",
   "metadata": {},
   "source": [
    "It can be useful to know when a ramp has finished. To do this, we can check the __busy__ variable of each stimulus.\n",
    "This variable is set to True when the stimulus is not ramping, and False when the stimulus is ramping and therefore cannot be controlled.\n",
    "The use of the busy status is demonstrated in the code below."
   ]
  },
  {
   "cell_type": "code",
   "execution_count": null,
   "metadata": {},
   "outputs": [],
   "source": [
    "print(impulse.heat.busy) #Prints False\n",
    "impulse.heat.startRamp(200,'rampTime',10)\n",
    "print(impulse.heat.busy) #Prints True\n",
    "impulse.heat.stopRamp()\n",
    "print(impulse.heat.busy) #Prints False again"
   ]
  },
  {
   "cell_type": "markdown",
   "metadata": {},
   "source": [
    "You can use this busy parameter to wait until a ramp or sweepcycle is finished in the following way:"
   ]
  },
  {
   "cell_type": "code",
   "execution_count": null,
   "metadata": {},
   "outputs": [],
   "source": [
    "impulse.heat.startRamp(330,'rampTime',5)\n",
    "\n",
    "while impulse.heat.busy:\n",
    "    impulse.sleep(0.1)\n",
    "    \n",
    "impulse.heat.startRamp(210,'rampTime',2)"
   ]
  },
  {
   "cell_type": "markdown",
   "metadata": {},
   "source": [
    "### 2.4 Profile controls\n",
    "The following commands allow you to control the profile player.\n",
    "\n",
    "`impulse.profile.load(path)`\n",
    "> Loads a profile into the profile player.\n",
    "> - __path__: needs to be an absolute path to the profile file. If your profile file is in the standard Impulse profiles folder, you can use `impulse.profilesPath+'profilename.extension'`.\n",
    "\n",
    "`impulse.profile.control(action)`\n",
    "> Controls the profile playback buttons.\n",
    "> - __action__: \"play\", \"pause\", \"stop\"\n",
    "\n",
    "`impulse.profile.getStatus()`\n",
    "> Returns the status of the profile player: running, paused or stopped."
   ]
  },
  {
   "cell_type": "code",
   "execution_count": null,
   "metadata": {},
   "outputs": [],
   "source": [
    "impulse.profile.load(impulse.profilesPath+'myProfile.temp.prf') # Replace myProfile.temp.prf with the file you want to load\n",
    "impulse.profile.control(\"play\")\n",
    "impulse.sleep(5)\n",
    "impulse.profile.control(\"pause\")\n",
    "impulse.sleep(5)\n",
    "impulse.profile.control(\"stop\")"
   ]
  },
  {
   "cell_type": "markdown",
   "metadata": {},
   "source": [
    "## Chapter 3. States and errors\n",
    "\n",
    "The Impulse software can be in three different states: \n",
    "1. <b>select</b> (stimuli selection page) \n",
    "2. <b>setup</b> (stimuli setup page) \n",
    "3. <b>control</b> (running experiment)\n",
    "\n",
    "The state that Impulse is in can be requested using the command:`impulse.getStatus()`\n",
    "\n",
    "The API controls only work in the control state, sending control commands in any other state will result in an `[INVALID OPERATION]` response. A way to make sure that impulse is in control mode is by using the `impulse.waitForControl()` command as shown earlier.\n",
    "\n",
    "If you send a command that includes setpoints that are out-of-range, Impulse will return an `[INVALID INPUT]` error. The error message will include the ranges for the setpoints that were out-of-range, as shown below:"
   ]
  },
  {
   "cell_type": "code",
   "execution_count": null,
   "metadata": {},
   "outputs": [],
   "source": [
    "impulse.heat.startRamp(9999,\"rampTime\", 999999999) #Setpoints out of range result in an invalidInput error"
   ]
  },
  {
   "cell_type": "markdown",
   "metadata": {},
   "source": [
    "## Chapter 4. Disconnecting from Impulse after the experiment\n",
    "\n",
    "The following line of code tells Impulse to stop sending the script datapoints and events."
   ]
  },
  {
   "cell_type": "code",
   "execution_count": null,
   "metadata": {},
   "outputs": [],
   "source": [
    "# Disconnect from Impulse\n",
    "impulse.disconnect()"
   ]
  }
 ],
 "metadata": {
  "kernelspec": {
   "display_name": "Python 3",
   "language": "python",
   "name": "python3"
  },
  "language_info": {
   "codemirror_mode": {
    "name": "ipython",
    "version": 3
   },
   "file_extension": ".py",
   "mimetype": "text/x-python",
   "name": "python",
   "nbconvert_exporter": "python",
   "pygments_lexer": "ipython3",
   "version": "3.9.1"
  }
 },
 "nbformat": 4,
 "nbformat_minor": 4
}
